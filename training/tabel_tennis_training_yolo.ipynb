{
 "cells": [
  {
   "cell_type": "code",
   "execution_count": 6,
   "id": "6f17de63",
   "metadata": {},
   "outputs": [
    {
     "name": "stderr",
     "output_type": "stream",
     "text": [
      "846652.56s - pydevd: Sending message related to process being replaced timed-out after 5 seconds\n"
     ]
    },
    {
     "name": "stdout",
     "output_type": "stream",
     "text": [
      "Requirement already satisfied: ultralytics in /Users/lilahu/Desktop/Code/.venv/lib/python3.9/site-packages (8.3.174)\n",
      "Requirement already satisfied: numpy>=1.23.0 in /Users/lilahu/Desktop/Code/.venv/lib/python3.9/site-packages (from ultralytics) (2.0.2)\n",
      "Requirement already satisfied: matplotlib>=3.3.0 in /Users/lilahu/Desktop/Code/.venv/lib/python3.9/site-packages (from ultralytics) (3.9.4)\n",
      "Requirement already satisfied: opencv-python>=4.6.0 in /Users/lilahu/Desktop/Code/.venv/lib/python3.9/site-packages (from ultralytics) (4.12.0.88)\n",
      "Requirement already satisfied: pillow>=7.1.2 in /Users/lilahu/Desktop/Code/.venv/lib/python3.9/site-packages (from ultralytics) (11.2.1)\n",
      "Requirement already satisfied: pyyaml>=5.3.1 in /Users/lilahu/Desktop/Code/.venv/lib/python3.9/site-packages (from ultralytics) (6.0.2)\n",
      "Requirement already satisfied: requests>=2.23.0 in /Users/lilahu/Desktop/Code/.venv/lib/python3.9/site-packages (from ultralytics) (2.32.4)\n",
      "Requirement already satisfied: scipy>=1.4.1 in /Users/lilahu/Desktop/Code/.venv/lib/python3.9/site-packages (from ultralytics) (1.13.1)\n",
      "Requirement already satisfied: torch>=1.8.0 in /Users/lilahu/Desktop/Code/.venv/lib/python3.9/site-packages (from ultralytics) (2.7.1)\n",
      "Requirement already satisfied: torchvision>=0.9.0 in /Users/lilahu/Desktop/Code/.venv/lib/python3.9/site-packages (from ultralytics) (0.22.1)\n",
      "Requirement already satisfied: tqdm>=4.64.0 in /Users/lilahu/Desktop/Code/.venv/lib/python3.9/site-packages (from ultralytics) (4.67.1)\n",
      "Requirement already satisfied: psutil in /Users/lilahu/Desktop/Code/.venv/lib/python3.9/site-packages (from ultralytics) (7.0.0)\n",
      "Requirement already satisfied: py-cpuinfo in /Users/lilahu/Desktop/Code/.venv/lib/python3.9/site-packages (from ultralytics) (9.0.0)\n",
      "Requirement already satisfied: pandas>=1.1.4 in /Users/lilahu/Desktop/Code/.venv/lib/python3.9/site-packages (from ultralytics) (2.3.0)\n",
      "Requirement already satisfied: ultralytics-thop>=2.0.0 in /Users/lilahu/Desktop/Code/.venv/lib/python3.9/site-packages (from ultralytics) (2.0.15)\n",
      "Requirement already satisfied: contourpy>=1.0.1 in /Users/lilahu/Desktop/Code/.venv/lib/python3.9/site-packages (from matplotlib>=3.3.0->ultralytics) (1.3.0)\n",
      "Requirement already satisfied: cycler>=0.10 in /Users/lilahu/Desktop/Code/.venv/lib/python3.9/site-packages (from matplotlib>=3.3.0->ultralytics) (0.12.1)\n",
      "Requirement already satisfied: fonttools>=4.22.0 in /Users/lilahu/Desktop/Code/.venv/lib/python3.9/site-packages (from matplotlib>=3.3.0->ultralytics) (4.58.4)\n",
      "Requirement already satisfied: kiwisolver>=1.3.1 in /Users/lilahu/Desktop/Code/.venv/lib/python3.9/site-packages (from matplotlib>=3.3.0->ultralytics) (1.4.7)\n",
      "Requirement already satisfied: packaging>=20.0 in /Users/lilahu/Desktop/Code/.venv/lib/python3.9/site-packages (from matplotlib>=3.3.0->ultralytics) (25.0)\n",
      "Requirement already satisfied: pyparsing>=2.3.1 in /Users/lilahu/Desktop/Code/.venv/lib/python3.9/site-packages (from matplotlib>=3.3.0->ultralytics) (3.2.3)\n",
      "Requirement already satisfied: python-dateutil>=2.7 in /Users/lilahu/Desktop/Code/.venv/lib/python3.9/site-packages (from matplotlib>=3.3.0->ultralytics) (2.9.0.post0)\n",
      "Requirement already satisfied: importlib-resources>=3.2.0 in /Users/lilahu/Desktop/Code/.venv/lib/python3.9/site-packages (from matplotlib>=3.3.0->ultralytics) (6.5.2)\n",
      "Requirement already satisfied: zipp>=3.1.0 in /Users/lilahu/Desktop/Code/.venv/lib/python3.9/site-packages (from importlib-resources>=3.2.0->matplotlib>=3.3.0->ultralytics) (3.23.0)\n",
      "Requirement already satisfied: pytz>=2020.1 in /Users/lilahu/Desktop/Code/.venv/lib/python3.9/site-packages (from pandas>=1.1.4->ultralytics) (2025.2)\n",
      "Requirement already satisfied: tzdata>=2022.7 in /Users/lilahu/Desktop/Code/.venv/lib/python3.9/site-packages (from pandas>=1.1.4->ultralytics) (2025.2)\n",
      "Requirement already satisfied: six>=1.5 in /Users/lilahu/Desktop/Code/.venv/lib/python3.9/site-packages (from python-dateutil>=2.7->matplotlib>=3.3.0->ultralytics) (1.17.0)\n",
      "Requirement already satisfied: charset_normalizer<4,>=2 in /Users/lilahu/Desktop/Code/.venv/lib/python3.9/site-packages (from requests>=2.23.0->ultralytics) (3.4.2)\n",
      "Requirement already satisfied: idna<4,>=2.5 in /Users/lilahu/Desktop/Code/.venv/lib/python3.9/site-packages (from requests>=2.23.0->ultralytics) (3.7)\n",
      "Requirement already satisfied: urllib3<3,>=1.21.1 in /Users/lilahu/Desktop/Code/.venv/lib/python3.9/site-packages (from requests>=2.23.0->ultralytics) (2.5.0)\n",
      "Requirement already satisfied: certifi>=2017.4.17 in /Users/lilahu/Desktop/Code/.venv/lib/python3.9/site-packages (from requests>=2.23.0->ultralytics) (2025.8.3)\n",
      "Requirement already satisfied: filelock in /Users/lilahu/Desktop/Code/.venv/lib/python3.9/site-packages (from torch>=1.8.0->ultralytics) (3.18.0)\n",
      "Requirement already satisfied: typing-extensions>=4.10.0 in /Users/lilahu/Desktop/Code/.venv/lib/python3.9/site-packages (from torch>=1.8.0->ultralytics) (4.14.0)\n",
      "Requirement already satisfied: sympy>=1.13.3 in /Users/lilahu/Desktop/Code/.venv/lib/python3.9/site-packages (from torch>=1.8.0->ultralytics) (1.14.0)\n",
      "Requirement already satisfied: networkx in /Users/lilahu/Desktop/Code/.venv/lib/python3.9/site-packages (from torch>=1.8.0->ultralytics) (3.2.1)\n",
      "Requirement already satisfied: jinja2 in /Users/lilahu/Desktop/Code/.venv/lib/python3.9/site-packages (from torch>=1.8.0->ultralytics) (3.1.6)\n",
      "Requirement already satisfied: fsspec in /Users/lilahu/Desktop/Code/.venv/lib/python3.9/site-packages (from torch>=1.8.0->ultralytics) (2025.7.0)\n",
      "Requirement already satisfied: mpmath<1.4,>=1.1.0 in /Users/lilahu/Desktop/Code/.venv/lib/python3.9/site-packages (from sympy>=1.13.3->torch>=1.8.0->ultralytics) (1.3.0)\n",
      "Requirement already satisfied: MarkupSafe>=2.0 in /Users/lilahu/Desktop/Code/.venv/lib/python3.9/site-packages (from jinja2->torch>=1.8.0->ultralytics) (3.0.2)\n",
      "\n",
      "\u001b[1m[\u001b[0m\u001b[34;49mnotice\u001b[0m\u001b[1;39;49m]\u001b[0m\u001b[39;49m A new release of pip is available: \u001b[0m\u001b[31;49m25.1.1\u001b[0m\u001b[39;49m -> \u001b[0m\u001b[32;49m25.2\u001b[0m\n",
      "\u001b[1m[\u001b[0m\u001b[34;49mnotice\u001b[0m\u001b[1;39;49m]\u001b[0m\u001b[39;49m To update, run: \u001b[0m\u001b[32;49mpip install --upgrade pip\u001b[0m\n"
     ]
    },
    {
     "name": "stderr",
     "output_type": "stream",
     "text": [
      "846658.28s - pydevd: Sending message related to process being replaced timed-out after 5 seconds\n"
     ]
    },
    {
     "name": "stdout",
     "output_type": "stream",
     "text": [
      "Requirement already satisfied: roboflow in /Users/lilahu/Desktop/Code/.venv/lib/python3.9/site-packages (1.2.3)\n",
      "Requirement already satisfied: certifi in /Users/lilahu/Desktop/Code/.venv/lib/python3.9/site-packages (from roboflow) (2025.8.3)\n",
      "Requirement already satisfied: idna==3.7 in /Users/lilahu/Desktop/Code/.venv/lib/python3.9/site-packages (from roboflow) (3.7)\n",
      "Requirement already satisfied: cycler in /Users/lilahu/Desktop/Code/.venv/lib/python3.9/site-packages (from roboflow) (0.12.1)\n",
      "Requirement already satisfied: kiwisolver>=1.3.1 in /Users/lilahu/Desktop/Code/.venv/lib/python3.9/site-packages (from roboflow) (1.4.7)\n",
      "Requirement already satisfied: matplotlib in /Users/lilahu/Desktop/Code/.venv/lib/python3.9/site-packages (from roboflow) (3.9.4)\n",
      "Requirement already satisfied: numpy>=1.18.5 in /Users/lilahu/Desktop/Code/.venv/lib/python3.9/site-packages (from roboflow) (2.0.2)\n",
      "Requirement already satisfied: opencv-python-headless==4.10.0.84 in /Users/lilahu/Desktop/Code/.venv/lib/python3.9/site-packages (from roboflow) (4.10.0.84)\n",
      "Requirement already satisfied: Pillow>=7.1.2 in /Users/lilahu/Desktop/Code/.venv/lib/python3.9/site-packages (from roboflow) (11.2.1)\n",
      "Requirement already satisfied: pi-heif<2 in /Users/lilahu/Desktop/Code/.venv/lib/python3.9/site-packages (from roboflow) (1.1.0)\n",
      "Requirement already satisfied: pillow-avif-plugin<2 in /Users/lilahu/Desktop/Code/.venv/lib/python3.9/site-packages (from roboflow) (1.5.2)\n",
      "Requirement already satisfied: python-dateutil in /Users/lilahu/Desktop/Code/.venv/lib/python3.9/site-packages (from roboflow) (2.9.0.post0)\n",
      "Requirement already satisfied: python-dotenv in /Users/lilahu/Desktop/Code/.venv/lib/python3.9/site-packages (from roboflow) (1.1.1)\n",
      "Requirement already satisfied: requests in /Users/lilahu/Desktop/Code/.venv/lib/python3.9/site-packages (from roboflow) (2.32.4)\n",
      "Requirement already satisfied: six in /Users/lilahu/Desktop/Code/.venv/lib/python3.9/site-packages (from roboflow) (1.17.0)\n",
      "Requirement already satisfied: urllib3>=1.26.6 in /Users/lilahu/Desktop/Code/.venv/lib/python3.9/site-packages (from roboflow) (2.5.0)\n",
      "Requirement already satisfied: tqdm>=4.41.0 in /Users/lilahu/Desktop/Code/.venv/lib/python3.9/site-packages (from roboflow) (4.67.1)\n",
      "Requirement already satisfied: PyYAML>=5.3.1 in /Users/lilahu/Desktop/Code/.venv/lib/python3.9/site-packages (from roboflow) (6.0.2)\n",
      "Requirement already satisfied: requests-toolbelt in /Users/lilahu/Desktop/Code/.venv/lib/python3.9/site-packages (from roboflow) (1.0.0)\n",
      "Requirement already satisfied: filetype in /Users/lilahu/Desktop/Code/.venv/lib/python3.9/site-packages (from roboflow) (1.2.0)\n",
      "Requirement already satisfied: contourpy>=1.0.1 in /Users/lilahu/Desktop/Code/.venv/lib/python3.9/site-packages (from matplotlib->roboflow) (1.3.0)\n",
      "Requirement already satisfied: fonttools>=4.22.0 in /Users/lilahu/Desktop/Code/.venv/lib/python3.9/site-packages (from matplotlib->roboflow) (4.58.4)\n",
      "Requirement already satisfied: packaging>=20.0 in /Users/lilahu/Desktop/Code/.venv/lib/python3.9/site-packages (from matplotlib->roboflow) (25.0)\n",
      "Requirement already satisfied: pyparsing>=2.3.1 in /Users/lilahu/Desktop/Code/.venv/lib/python3.9/site-packages (from matplotlib->roboflow) (3.2.3)\n",
      "Requirement already satisfied: importlib-resources>=3.2.0 in /Users/lilahu/Desktop/Code/.venv/lib/python3.9/site-packages (from matplotlib->roboflow) (6.5.2)\n",
      "Requirement already satisfied: zipp>=3.1.0 in /Users/lilahu/Desktop/Code/.venv/lib/python3.9/site-packages (from importlib-resources>=3.2.0->matplotlib->roboflow) (3.23.0)\n",
      "Requirement already satisfied: charset_normalizer<4,>=2 in /Users/lilahu/Desktop/Code/.venv/lib/python3.9/site-packages (from requests->roboflow) (3.4.2)\n",
      "\n",
      "\u001b[1m[\u001b[0m\u001b[34;49mnotice\u001b[0m\u001b[1;39;49m]\u001b[0m\u001b[39;49m A new release of pip is available: \u001b[0m\u001b[31;49m25.1.1\u001b[0m\u001b[39;49m -> \u001b[0m\u001b[32;49m25.2\u001b[0m\n",
      "\u001b[1m[\u001b[0m\u001b[34;49mnotice\u001b[0m\u001b[1;39;49m]\u001b[0m\u001b[39;49m To update, run: \u001b[0m\u001b[32;49mpip install --upgrade pip\u001b[0m\n"
     ]
    },
    {
     "name": "stderr",
     "output_type": "stream",
     "text": [
      "846663.84s - pydevd: Sending message related to process being replaced timed-out after 5 seconds\n"
     ]
    },
    {
     "name": "stdout",
     "output_type": "stream",
     "text": [
      "Requirement already satisfied: roboflow in /Users/lilahu/Desktop/Code/.venv/lib/python3.9/site-packages (1.2.3)\n",
      "Collecting roboflow\n",
      "  Downloading roboflow-1.2.6-py3-none-any.whl.metadata (9.7 kB)\n",
      "Requirement already satisfied: certifi in /Users/lilahu/Desktop/Code/.venv/lib/python3.9/site-packages (from roboflow) (2025.8.3)\n",
      "Requirement already satisfied: idna==3.7 in /Users/lilahu/Desktop/Code/.venv/lib/python3.9/site-packages (from roboflow) (3.7)\n",
      "Requirement already satisfied: cycler in /Users/lilahu/Desktop/Code/.venv/lib/python3.9/site-packages (from roboflow) (0.12.1)\n",
      "Requirement already satisfied: kiwisolver>=1.3.1 in /Users/lilahu/Desktop/Code/.venv/lib/python3.9/site-packages (from roboflow) (1.4.7)\n",
      "Requirement already satisfied: matplotlib in /Users/lilahu/Desktop/Code/.venv/lib/python3.9/site-packages (from roboflow) (3.9.4)\n",
      "Requirement already satisfied: numpy>=1.18.5 in /Users/lilahu/Desktop/Code/.venv/lib/python3.9/site-packages (from roboflow) (2.0.2)\n",
      "Requirement already satisfied: opencv-python-headless==4.10.0.84 in /Users/lilahu/Desktop/Code/.venv/lib/python3.9/site-packages (from roboflow) (4.10.0.84)\n",
      "Requirement already satisfied: Pillow>=7.1.2 in /Users/lilahu/Desktop/Code/.venv/lib/python3.9/site-packages (from roboflow) (11.2.1)\n",
      "Requirement already satisfied: pi-heif<2 in /Users/lilahu/Desktop/Code/.venv/lib/python3.9/site-packages (from roboflow) (1.1.0)\n",
      "Requirement already satisfied: pillow-avif-plugin<2 in /Users/lilahu/Desktop/Code/.venv/lib/python3.9/site-packages (from roboflow) (1.5.2)\n",
      "Requirement already satisfied: python-dateutil in /Users/lilahu/Desktop/Code/.venv/lib/python3.9/site-packages (from roboflow) (2.9.0.post0)\n",
      "Requirement already satisfied: python-dotenv in /Users/lilahu/Desktop/Code/.venv/lib/python3.9/site-packages (from roboflow) (1.1.1)\n",
      "Requirement already satisfied: requests in /Users/lilahu/Desktop/Code/.venv/lib/python3.9/site-packages (from roboflow) (2.32.4)\n",
      "Requirement already satisfied: six in /Users/lilahu/Desktop/Code/.venv/lib/python3.9/site-packages (from roboflow) (1.17.0)\n",
      "Requirement already satisfied: urllib3>=1.26.6 in /Users/lilahu/Desktop/Code/.venv/lib/python3.9/site-packages (from roboflow) (2.5.0)\n",
      "Requirement already satisfied: tqdm>=4.41.0 in /Users/lilahu/Desktop/Code/.venv/lib/python3.9/site-packages (from roboflow) (4.67.1)\n",
      "Requirement already satisfied: PyYAML>=5.3.1 in /Users/lilahu/Desktop/Code/.venv/lib/python3.9/site-packages (from roboflow) (6.0.2)\n",
      "Requirement already satisfied: requests-toolbelt in /Users/lilahu/Desktop/Code/.venv/lib/python3.9/site-packages (from roboflow) (1.0.0)\n",
      "Requirement already satisfied: filetype in /Users/lilahu/Desktop/Code/.venv/lib/python3.9/site-packages (from roboflow) (1.2.0)\n",
      "Requirement already satisfied: contourpy>=1.0.1 in /Users/lilahu/Desktop/Code/.venv/lib/python3.9/site-packages (from matplotlib->roboflow) (1.3.0)\n",
      "Requirement already satisfied: fonttools>=4.22.0 in /Users/lilahu/Desktop/Code/.venv/lib/python3.9/site-packages (from matplotlib->roboflow) (4.58.4)\n",
      "Requirement already satisfied: packaging>=20.0 in /Users/lilahu/Desktop/Code/.venv/lib/python3.9/site-packages (from matplotlib->roboflow) (25.0)\n",
      "Requirement already satisfied: pyparsing>=2.3.1 in /Users/lilahu/Desktop/Code/.venv/lib/python3.9/site-packages (from matplotlib->roboflow) (3.2.3)\n",
      "Requirement already satisfied: importlib-resources>=3.2.0 in /Users/lilahu/Desktop/Code/.venv/lib/python3.9/site-packages (from matplotlib->roboflow) (6.5.2)\n",
      "Requirement already satisfied: zipp>=3.1.0 in /Users/lilahu/Desktop/Code/.venv/lib/python3.9/site-packages (from importlib-resources>=3.2.0->matplotlib->roboflow) (3.23.0)\n",
      "Requirement already satisfied: charset_normalizer<4,>=2 in /Users/lilahu/Desktop/Code/.venv/lib/python3.9/site-packages (from requests->roboflow) (3.4.2)\n",
      "Downloading roboflow-1.2.6-py3-none-any.whl (88 kB)\n",
      "Installing collected packages: roboflow\n",
      "  Attempting uninstall: roboflow\n",
      "    Found existing installation: roboflow 1.2.3\n",
      "    Uninstalling roboflow-1.2.3:\n",
      "      Successfully uninstalled roboflow-1.2.3\n",
      "Successfully installed roboflow-1.2.6\n",
      "\n",
      "\u001b[1m[\u001b[0m\u001b[34;49mnotice\u001b[0m\u001b[1;39;49m]\u001b[0m\u001b[39;49m A new release of pip is available: \u001b[0m\u001b[31;49m25.1.1\u001b[0m\u001b[39;49m -> \u001b[0m\u001b[32;49m25.2\u001b[0m\n",
      "\u001b[1m[\u001b[0m\u001b[34;49mnotice\u001b[0m\u001b[1;39;49m]\u001b[0m\u001b[39;49m To update, run: \u001b[0m\u001b[32;49mpip install --upgrade pip\u001b[0m\n"
     ]
    },
    {
     "name": "stderr",
     "output_type": "stream",
     "text": [
      "846669.69s - pydevd: Sending message related to process being replaced timed-out after 5 seconds\n"
     ]
    },
    {
     "name": "stdout",
     "output_type": "stream",
     "text": [
      "Requirement already satisfied: roboflow in /Users/lilahu/Desktop/Code/.venv/lib/python3.9/site-packages (1.2.6)\n",
      "Requirement already satisfied: certifi in /Users/lilahu/Desktop/Code/.venv/lib/python3.9/site-packages (from roboflow) (2025.8.3)\n",
      "Requirement already satisfied: idna==3.7 in /Users/lilahu/Desktop/Code/.venv/lib/python3.9/site-packages (from roboflow) (3.7)\n",
      "Requirement already satisfied: cycler in /Users/lilahu/Desktop/Code/.venv/lib/python3.9/site-packages (from roboflow) (0.12.1)\n",
      "Requirement already satisfied: kiwisolver>=1.3.1 in /Users/lilahu/Desktop/Code/.venv/lib/python3.9/site-packages (from roboflow) (1.4.7)\n",
      "Requirement already satisfied: matplotlib in /Users/lilahu/Desktop/Code/.venv/lib/python3.9/site-packages (from roboflow) (3.9.4)\n",
      "Requirement already satisfied: numpy>=1.18.5 in /Users/lilahu/Desktop/Code/.venv/lib/python3.9/site-packages (from roboflow) (2.0.2)\n",
      "Requirement already satisfied: opencv-python-headless==4.10.0.84 in /Users/lilahu/Desktop/Code/.venv/lib/python3.9/site-packages (from roboflow) (4.10.0.84)\n",
      "Requirement already satisfied: Pillow>=7.1.2 in /Users/lilahu/Desktop/Code/.venv/lib/python3.9/site-packages (from roboflow) (11.2.1)\n",
      "Requirement already satisfied: pi-heif<2 in /Users/lilahu/Desktop/Code/.venv/lib/python3.9/site-packages (from roboflow) (1.1.0)\n",
      "Requirement already satisfied: pillow-avif-plugin<2 in /Users/lilahu/Desktop/Code/.venv/lib/python3.9/site-packages (from roboflow) (1.5.2)\n",
      "Requirement already satisfied: python-dateutil in /Users/lilahu/Desktop/Code/.venv/lib/python3.9/site-packages (from roboflow) (2.9.0.post0)\n",
      "Requirement already satisfied: python-dotenv in /Users/lilahu/Desktop/Code/.venv/lib/python3.9/site-packages (from roboflow) (1.1.1)\n",
      "Requirement already satisfied: requests in /Users/lilahu/Desktop/Code/.venv/lib/python3.9/site-packages (from roboflow) (2.32.4)\n",
      "Requirement already satisfied: six in /Users/lilahu/Desktop/Code/.venv/lib/python3.9/site-packages (from roboflow) (1.17.0)\n",
      "Requirement already satisfied: urllib3>=1.26.6 in /Users/lilahu/Desktop/Code/.venv/lib/python3.9/site-packages (from roboflow) (2.5.0)\n",
      "Requirement already satisfied: tqdm>=4.41.0 in /Users/lilahu/Desktop/Code/.venv/lib/python3.9/site-packages (from roboflow) (4.67.1)\n",
      "Requirement already satisfied: PyYAML>=5.3.1 in /Users/lilahu/Desktop/Code/.venv/lib/python3.9/site-packages (from roboflow) (6.0.2)\n",
      "Requirement already satisfied: requests-toolbelt in /Users/lilahu/Desktop/Code/.venv/lib/python3.9/site-packages (from roboflow) (1.0.0)\n",
      "Requirement already satisfied: filetype in /Users/lilahu/Desktop/Code/.venv/lib/python3.9/site-packages (from roboflow) (1.2.0)\n",
      "Requirement already satisfied: contourpy>=1.0.1 in /Users/lilahu/Desktop/Code/.venv/lib/python3.9/site-packages (from matplotlib->roboflow) (1.3.0)\n",
      "Requirement already satisfied: fonttools>=4.22.0 in /Users/lilahu/Desktop/Code/.venv/lib/python3.9/site-packages (from matplotlib->roboflow) (4.58.4)\n",
      "Requirement already satisfied: packaging>=20.0 in /Users/lilahu/Desktop/Code/.venv/lib/python3.9/site-packages (from matplotlib->roboflow) (25.0)\n",
      "Requirement already satisfied: pyparsing>=2.3.1 in /Users/lilahu/Desktop/Code/.venv/lib/python3.9/site-packages (from matplotlib->roboflow) (3.2.3)\n",
      "Requirement already satisfied: importlib-resources>=3.2.0 in /Users/lilahu/Desktop/Code/.venv/lib/python3.9/site-packages (from matplotlib->roboflow) (6.5.2)\n",
      "Requirement already satisfied: zipp>=3.1.0 in /Users/lilahu/Desktop/Code/.venv/lib/python3.9/site-packages (from importlib-resources>=3.2.0->matplotlib->roboflow) (3.23.0)\n",
      "Requirement already satisfied: charset_normalizer<4,>=2 in /Users/lilahu/Desktop/Code/.venv/lib/python3.9/site-packages (from requests->roboflow) (3.4.2)\n",
      "\n",
      "\u001b[1m[\u001b[0m\u001b[34;49mnotice\u001b[0m\u001b[1;39;49m]\u001b[0m\u001b[39;49m A new release of pip is available: \u001b[0m\u001b[31;49m25.1.1\u001b[0m\u001b[39;49m -> \u001b[0m\u001b[32;49m25.2\u001b[0m\n",
      "\u001b[1m[\u001b[0m\u001b[34;49mnotice\u001b[0m\u001b[1;39;49m]\u001b[0m\u001b[39;49m To update, run: \u001b[0m\u001b[32;49mpip install --upgrade pip\u001b[0m\n",
      "loading Roboflow workspace...\n",
      "loading Roboflow project...\n"
     ]
    }
   ],
   "source": [
    "! pip install ultralytics\n",
    "! pip install roboflow\n",
    "\n",
    "! pip install --upgrade roboflow\n",
    "\n",
    "from roboflow import Roboflow\n",
    "import os\n",
    "\n",
    "                \n",
    "!pip install roboflow\n",
    "\n",
    "from roboflow import Roboflow\n",
    "rf = Roboflow(api_key=\"jig1Ejn3Voi9IuhJREHs\")\n",
    "project = rf.workspace(\"lila-uczgc\").project(\"tabel_tennis_detection-5yqal\")\n",
    "version = project.version(2)\n",
    "dataset = version.download(\"yolov8\")\n",
    "                "
   ]
  },
  {
   "cell_type": "code",
   "execution_count": 10,
   "id": "d21b41d7",
   "metadata": {},
   "outputs": [
    {
     "data": {
      "text/plain": [
       "'/Users/lilahu/Desktop/Code/open-cv-practice/training/tabel_tennis_detection-1'"
      ]
     },
     "execution_count": 10,
     "metadata": {},
     "output_type": "execute_result"
    }
   ],
   "source": [
    "dataset.location"
   ]
  },
  {
   "cell_type": "code",
   "execution_count": null,
   "id": "b376099a",
   "metadata": {},
   "outputs": [
    {
     "name": "stdout",
     "output_type": "stream",
     "text": [
      "❌ Not found: /content/tabel_tennis_detection-2/tabel_tennis_detection-2/train\n",
      "❌ Not found: /content/tabel_tennis_detection-2/tabel_tennis_detection-2/valid\n",
      "❌ Not found: /content/tabel_tennis_detection-2/tabel_tennis_detection-2/test\n"
     ]
    }
   ],
   "source": []
  },
  {
   "cell_type": "markdown",
   "id": "41b20a2f",
   "metadata": {},
   "source": [
    "Training"
   ]
  },
  {
   "cell_type": "code",
   "execution_count": null,
   "id": "9bc88243",
   "metadata": {},
   "outputs": [],
   "source": [
    "!yolo task=detect mode=train model=yolov5x.pt data={dataset.location}/data.yaml epochs=100 imgsz=640"
   ]
  }
 ],
 "metadata": {
  "kernelspec": {
   "display_name": ".venv",
   "language": "python",
   "name": "python3"
  },
  "language_info": {
   "codemirror_mode": {
    "name": "ipython",
    "version": 3
   },
   "file_extension": ".py",
   "mimetype": "text/x-python",
   "name": "python",
   "nbconvert_exporter": "python",
   "pygments_lexer": "ipython3",
   "version": "3.9.6"
  }
 },
 "nbformat": 4,
 "nbformat_minor": 5
}
